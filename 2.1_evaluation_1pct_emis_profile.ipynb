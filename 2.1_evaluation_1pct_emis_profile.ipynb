{
 "cells": [
  {
   "cell_type": "code",
   "execution_count": 1,
   "metadata": {},
   "outputs": [
    {
     "data": {
      "text/plain": [
       "<dask.config.set at 0x7f69d432bee0>"
      ]
     },
     "execution_count": 1,
     "metadata": {},
     "output_type": "execute_result"
    }
   ],
   "source": [
    "%matplotlib inline\n",
    "\n",
    "%matplotlib inline\n",
    "%load_ext autoreload\n",
    "%autoreload 2\n",
    "\n",
    "import xarray as xr\n",
    "import pandas as pd\n",
    "import matplotlib.pyplot as plt\n",
    "import numpy as np\n",
    "import cftime\n",
    "import dask\n",
    "import xarrayutils\n",
    "import cartopy.crs as ccrs\n",
    "from xmip.preprocessing import combined_preprocessing\n",
    "from xmip.preprocessing import replace_x_y_nominal_lat_lon\n",
    "from xmip.drift_removal import replace_time\n",
    "from xmip.postprocessing import concat_experiments\n",
    "import xmip.drift_removal as xm_dr\n",
    "import xmip as xm\n",
    "import xesmf as xe\n",
    "import datetime\n",
    "from dateutil.relativedelta import relativedelta\n",
    "import utils\n",
    "import scipy.signal as signal\n",
    "import cf_xarray as cfxr\n",
    "from datetime import timedelta\n",
    "\n",
    "\n",
    "dask.config.set(**{'array.slicing.split_large_chunks': True})\n"
   ]
  },
  {
   "cell_type": "markdown",
   "metadata": {},
   "source": [
    "### Notes:\n",
    "\n",
    "GFDL: 1pct and esm pi-control start from year 0001\n",
    "\n",
    "UKESM1: 1pct starts in 1850 and pi-control starts in 1960, move 1pct to start in 1960\n",
    "\n",
    "MIROC: both start from 1850\n",
    "\n",
    "NORESM2: 1pct from 0001 pi-control from 1600-- move 1pct to 1600\n",
    "\n",
    "ACCESS: 1pct and pi-control from 0101\n",
    "\n",
    "CANESM5_r1p1: 1pct 1850, pi-control 5201, move 1pct to 5201\n",
    "\n",
    "CANESM5_r1p2: 1pct 1850, pi-control 5550, move 1pct to 5550\n"
   ]
  },
  {
   "cell_type": "markdown",
   "metadata": {},
   "source": [
    "# Parameters and Dictionaries"
   ]
  },
  {
   "cell_type": "code",
   "execution_count": 2,
   "metadata": {},
   "outputs": [],
   "source": [
    "model_run_1pct_dict = utils.model_run_1pct_dict\n",
    "model_run_control_dict = utils.model_run_picontrol_dict\n"
   ]
  },
  {
   "cell_type": "code",
   "execution_count": 3,
   "metadata": {},
   "outputs": [],
   "source": [
    "fg_co2_1pct = {} #ocean-atmosphere co2 flux\n",
    "fg_co2_pictrl = {}\n",
    "nbp_1pct = {} #land-atmosphere co2 flux\n",
    "nbp_pictrl = {}\n",
    "co2_1pct = {} #co2 mass\n",
    "co2_pictrl = {}\n",
    "areacello = {} #ocean cell area\n",
    "areacella = {} #land cell area"
   ]
  },
  {
   "cell_type": "markdown",
   "metadata": {},
   "source": [
    "# Import 1pct and Control Data"
   ]
  },
  {
   "cell_type": "code",
   "execution_count": 4,
   "metadata": {},
   "outputs": [
    {
     "name": "stdout",
     "output_type": "stream",
     "text": [
      "UKESM1_r1\n",
      "load 1pct run\n",
      "UKESM1_r2\n",
      "load 1pct run\n",
      "UKESM1_r3\n",
      "load 1pct run\n",
      "UKESM1_r4\n",
      "load 1pct run\n",
      "MIROC\n",
      "load 1pct run\n",
      "NORESM2\n",
      "load 1pct run\n",
      "ACCESS\n",
      "load 1pct run\n",
      "GFDL\n",
      "load 1pct run\n",
      "CANESM5_r1p2\n",
      "load 1pct run\n",
      "CANESM5_r2p2\n",
      "load 1pct run\n",
      "CANESM5_r3p2\n",
      "load 1pct run\n",
      "CANESM5_r1p1\n",
      "load 1pct run\n",
      "CANESM5_r2p1\n",
      "load 1pct run\n",
      "CANESM5_r3p1\n",
      "load 1pct run\n"
     ]
    }
   ],
   "source": [
    "for m in model_run_1pct_dict.keys(): #load the fgco2, nbp, and co2mass for the 1pctCO2 run\n",
    "    print(m)\n",
    "    print('load 1pct run')\n",
    "\n",
    "    fg_co2_1pct[m] = xr.open_mfdataset(f'{utils.path_to_cmip6_data}fgco2_Omon_{model_run_1pct_dict[m]}', use_cftime=True) #kgC/m2/s\n",
    "\n",
    "    nbp_1pct[m] = xr.open_mfdataset(f'{utils.path_to_cmip6_data}nbp_Lmon_{model_run_1pct_dict[m]}', use_cftime=True) #kgC/m2/s\n",
    "    if m == 'UKESM1_r1' or m == 'UKESM1_r2' or m == 'UKESM1_r3' or m == 'UKESM1_r4' or m == 'NORESM2' or m == 'GFDL':\n",
    "        co2_1pct[m] = xr.open_mfdataset(f'{utils.path_to_cmip6_data}co2mass_Amon_{model_run_1pct_dict[m]}', use_cftime=True) #kg\n",
    "    \n",
    "    "
   ]
  },
  {
   "cell_type": "code",
   "execution_count": 5,
   "metadata": {
    "tags": []
   },
   "outputs": [
    {
     "name": "stdout",
     "output_type": "stream",
     "text": [
      "UKESM1_r1\n",
      "load pi control run\n",
      "MIROC\n",
      "load pi control run\n",
      "NORESM2\n",
      "load pi control run\n",
      "ACCESS\n",
      "load pi control run\n",
      "GFDL\n",
      "load pi control run\n",
      "CANESM5_r1p2\n",
      "load pi control run\n",
      "CANESM5_r1p1\n",
      "load pi control run\n"
     ]
    }
   ],
   "source": [
    "for m in model_run_control_dict.keys(): #load the fgco2, nbp, and co2mass for the control run\n",
    "    print(m)\n",
    "    print('load pi control run')\n",
    "    fg_co2_pictrl[m] = xr.open_mfdataset(f'{utils.path_to_cmip6_data}fgco2_Omon_{model_run_control_dict[m]}', use_cftime=True, engine = 'netcdf4') #kg/m2/s \n",
    "    \n",
    "    nbp_pictrl[m] = xr.open_mfdataset(f'{utils.path_to_cmip6_data}nbp_Lmon_{model_run_control_dict[m]}',use_cftime=True, engine = 'netcdf4') #kgC/m2/s \n",
    "\n",
    "    if m == 'UKESM1_r1' or m == 'NORESM2' or m == 'GFDL':\n",
    "        co2_pictrl[m] = xr.open_mfdataset(f'{utils.path_to_cmip6_data}co2mass_Amon_{model_run_control_dict[m]}',use_cftime=True, engine = 'netcdf4') #kg\n",
    "    \n",
    "    areacello[m] = xr.open_mfdataset(f'{utils.path_to_cmip6_data}areacello_Ofx_{model_run_control_dict[m]}', use_cftime=True, engine = 'netcdf4')  #load our area of cells\n",
    "    areacella[m] = xr.open_mfdataset(f'{utils.path_to_cmip6_data}areacella_fx_{model_run_control_dict[m]}', use_cftime=True, engine = 'netcdf4') #load our area of cells\n"
   ]
  },
  {
   "cell_type": "markdown",
   "metadata": {},
   "source": [
    "# Modify Data"
   ]
  },
  {
   "cell_type": "markdown",
   "metadata": {},
   "source": [
    "## Conversion to KgC as a flux"
   ]
  },
  {
   "cell_type": "code",
   "execution_count": 6,
   "metadata": {},
   "outputs": [],
   "source": [
    "kgCO2_to_kgC = 1/3.67\n",
    "#everything needs to be a flux, but right now we have co2mass. convert the mass into a flux\n",
    "\n",
    "#convert kg to kg/year\n",
    "for m in ['UKESM1_r1', 'UKESM1_r2', 'UKESM1_r3', 'UKESM1_r4', 'NORESM2', 'GFDL']:\n",
    "    seconds_per_yr = 60*60*24*365\n",
    "    co2_1pct[m]['G_atm'] = co2_1pct[m]['co2mass'].diff('time')/(co2_1pct[m]['time'].diff('time').astype('float64')/(1e9*seconds_per_yr)) #convert from ns to year via 1e9ns/s x 60s/min x 60min/hr x 24hr/day x 365day/yr\n",
    "    co2_1pct[m]['G_atm'] *= kgCO2_to_kgC\n",
    "    co2_1pct[m]['G_atm'].attrs = {'units':'kgC'}\n",
    "    \n",
    "for m in [ 'NORESM2', 'GFDL', 'UKESM1_r1']:\n",
    "    seconds_per_yr = 60*60*24*365\n",
    "    co2_pictrl[m]['G_atm'] = co2_pictrl[m]['co2mass'].diff('time')/(co2_pictrl[m]['time'].diff('time').astype('float64')/(1e9*seconds_per_yr)) #convert from ns to year via 1e9ns/s x 60s/min x 60min/hr x 24hr/day x 365day/yr\n",
    "    co2_pictrl[m]['G_atm'] *= kgCO2_to_kgC\n",
    "    co2_pictrl[m]['G_atm'].attrs = {'units':'kgC'}"
   ]
  },
  {
   "cell_type": "markdown",
   "metadata": {},
   "source": [
    "## Model specific fixes in time and CO2 variable"
   ]
  },
  {
   "cell_type": "code",
   "execution_count": 7,
   "metadata": {},
   "outputs": [],
   "source": [
    "## make model specific fixes (time and vmr->co2mass)\n",
    "m = 'NORESM2'\n",
    "nbp_pictrl[m]['time'] = nbp_pictrl[m]['time'] -timedelta(365*1599)\n",
    "fg_co2_pictrl[m]['time'] = fg_co2_pictrl[m]['time'] - timedelta(365*1599)\n",
    "co2_pictrl[m]['time'] = co2_pictrl[m]['time'] - timedelta(365*1599)\n",
    "co2_1pct[m] *=1.5172413793 #currently saved as the vmr (see the attributes, has not been properly converted)\n",
    "co2_pictrl[m] *=1.5172413793 #currently saved as the vmr (see the attributes, has not been properly converted)\n",
    "\n",
    "\n",
    "m = 'UKESM1_r1'\n",
    "nbp_pictrl[m]['time'] = nbp_pictrl['UKESM1_r1']['time'] - timedelta(360*110)\n",
    "fg_co2_pictrl[m]['time'] = fg_co2_pictrl['UKESM1_r1']['time'] - timedelta(360*110)\n",
    "co2_pictrl[m]['time'] = co2_pictrl['UKESM1_r1']['time'] - timedelta(360*110)\n",
    "\n",
    "m = 'CANESM5_r1p2'\n",
    "nbp_pictrl[m]['time'] = nbp_pictrl['CANESM5_r1p2']['time']- timedelta(365*3700)\n",
    "fg_co2_pictrl[m]['time'] = fg_co2_pictrl['CANESM5_r1p2']['time']- timedelta(365*3700)\n",
    "\n",
    "m = 'CANESM5_r1p1'\n",
    "nbp_pictrl[m]['time'] = nbp_pictrl['CANESM5_r1p1']['time']- timedelta(365*3351)\n",
    "fg_co2_pictrl[m]['time'] = fg_co2_pictrl['CANESM5_r1p1']['time']- timedelta(365*3351)\n"
   ]
  },
  {
   "cell_type": "markdown",
   "metadata": {},
   "source": [
    "## Fix the GFDL Area Cell Ocean"
   ]
  },
  {
   "cell_type": "code",
   "execution_count": 8,
   "metadata": {},
   "outputs": [],
   "source": [
    "#replace GFDL areacello with a calculated areacell. current one doesn't line up\n",
    "\n",
    "ds_out = xr.Dataset(\n",
    "    {\n",
    "        \"lat\": ([\"lat\"], np.arange(-89.5, 90.5, 1.0)),\n",
    "        \"lon\": ([\"lon\"], np.arange(0, 360, 1)),\n",
    "        \"lat_b\": ([\"lat_b\"], np.arange(-90.,91.,1.0)),\n",
    "        \"lon_b\":([\"lon_b\"], np.arange(.5, 361.5, 1.0))\n",
    "    }\n",
    ")\n",
    "A = utils.find_area(ds_out, R = 6.3781e6)\n",
    "\n",
    "\n",
    "areacello['GFDL'] = A"
   ]
  },
  {
   "cell_type": "markdown",
   "metadata": {},
   "source": [
    "# Difference between the 1pct and the Control Runs"
   ]
  },
  {
   "cell_type": "markdown",
   "metadata": {},
   "source": [
    "## FGCO2 and NBP Difference"
   ]
  },
  {
   "cell_type": "code",
   "execution_count": 9,
   "metadata": {
    "tags": []
   },
   "outputs": [
    {
     "name": "stdout",
     "output_type": "stream",
     "text": [
      "UKESM1_r1\n",
      "UKESM1_r1 UKESM1_r1\n",
      "UKESM1_r2\n",
      "UKESM1_r2 UKESM1_r1\n",
      "UKESM1_r3\n",
      "UKESM1_r3 UKESM1_r1\n",
      "UKESM1_r4\n",
      "UKESM1_r4 UKESM1_r1\n",
      "MIROC\n",
      "MIROC MIROC\n",
      "NORESM2\n",
      "NORESM2 NORESM2\n",
      "ACCESS\n",
      "ACCESS ACCESS\n",
      "GFDL\n",
      "GFDL GFDL\n",
      "CANESM5_r1p2\n",
      "CANESM5_r1p2 CANESM5_r1p2\n",
      "CANESM5_r2p2\n",
      "CANESM5_r2p2 CANESM5_r1p2\n",
      "CANESM5_r3p2\n",
      "CANESM5_r3p2 CANESM5_r1p2\n",
      "CANESM5_r1p1\n",
      "CANESM5_r1p1 CANESM5_r1p1\n",
      "CANESM5_r2p1\n",
      "CANESM5_r2p1 CANESM5_r1p1\n",
      "CANESM5_r3p1\n",
      "CANESM5_r3p1 CANESM5_r1p1\n"
     ]
    }
   ],
   "source": [
    "fg_co2 = {}\n",
    "nbp = {}\n",
    "\n",
    "for m1 in model_run_1pct_dict.keys():\n",
    "    print(m1)\n",
    "    \n",
    "    # we have the r1p1 for the control, but rxp1 for the pulse, so here we are defining the correct matching control run to each pulse \n",
    "    \n",
    "    if m1 == 'UKESM1_r1' or m1 == 'UKESM1_r2' or m1 == 'UKESM1_r3' or m1 == 'UKESM1_r4':\n",
    "        m2 = 'UKESM1_r1'\n",
    "    elif m1 == 'CANESM5_r1p1' or m1 == 'CANESM5_r2p1' or m1 == 'CANESM5_r3p1':\n",
    "         m2 = 'CANESM5_r1p1'\n",
    "    elif m1 == 'CANESM5_r1p2' or m1 == 'CANESM5_r2p2' or m1 == 'CANESM5_r3p2':\n",
    "         m2 = 'CANESM5_r1p2'\n",
    "    else:\n",
    "        m2 = m1\n",
    "    print(m1, m2)\n",
    "    \n",
    "    # difference between the 1pct and the control run\n",
    "    \n",
    "    fg_co2[m1] = fg_co2_1pct[m1] - fg_co2_pictrl[m2]\n",
    "    nbp[m1] = nbp_1pct[m1] - nbp_pictrl[m2]\n",
    "    \n",
    "    # take the global mean \n",
    "    \n",
    "    if m2 == 'GFDL':\n",
    "        fg_co2[m1]['fgco2'] = fg_co2[m1]['fgco2']*seconds_per_yr*areacello[m2]\n",
    "    else:\n",
    "        fg_co2[m1]['fgco2'] = fg_co2[m1]['fgco2']*seconds_per_yr*areacello[m2]['areacello']\n",
    "    nbp[m1]['nbp'] = nbp[m1]['nbp']*seconds_per_yr*areacella[m2]['areacella']"
   ]
  },
  {
   "cell_type": "markdown",
   "metadata": {},
   "source": [
    "## Sum up all Sinks (FGCO2 and NBP)"
   ]
  },
  {
   "cell_type": "code",
   "execution_count": 10,
   "metadata": {},
   "outputs": [],
   "source": [
    "# total sinks, summing up the nbp and fgco2 over lat and lon\n",
    "\n",
    "emis_sinks = {}\n",
    "for m in nbp.keys():\n",
    "    if 'lat' in list(fg_co2[m]['fgco2'].dims):\n",
    "        emis_sinks[m] = nbp[m]['nbp'].sum(dim = ['lat','lon']) + fg_co2[m]['fgco2'].sum(dim = ['lat','lon'])\n",
    "    elif 'i' in list(fg_co2[m]['fgco2'].dims):\n",
    "        emis_sinks[m] = nbp[m]['nbp'].sum(dim = ['lat','lon']) + fg_co2[m]['fgco2'].sum(dim = ['i','j'])\n",
    "    elif 'x' in list(fg_co2[m]['fgco2'].dims):\n",
    "        emis_sinks[m] = nbp[m]['nbp'].sum(dim = ['lat','lon']) + fg_co2[m]['fgco2'].sum(dim = ['x','y'])"
   ]
  },
  {
   "cell_type": "markdown",
   "metadata": {},
   "source": [
    "## CO2 Mass Difference"
   ]
  },
  {
   "cell_type": "code",
   "execution_count": 11,
   "metadata": {},
   "outputs": [
    {
     "name": "stdout",
     "output_type": "stream",
     "text": [
      "UKESM1_r1 UKESM1_r1\n",
      "UKESM1_r2 UKESM1_r1\n",
      "UKESM1_r3 UKESM1_r1\n",
      "UKESM1_r4 UKESM1_r1\n",
      "NORESM2 NORESM2\n",
      "GFDL GFDL\n"
     ]
    }
   ],
   "source": [
    "co2_dif = {}\n",
    "for m1 in co2_1pct.keys():\n",
    "    if m1 == 'UKESM1_r1' or m1 == 'UKESM1_r2' or m1 == 'UKESM1_r3' or m1 == 'UKESM1_r4':\n",
    "        m2 = 'UKESM1_r1'\n",
    "    else:\n",
    "        m2 = m1\n",
    "    print(m1, m2)\n",
    "    \n",
    "    # difference between the 1pct and the control run\n",
    "    \n",
    "    co2_dif[m1] = co2_1pct[m1]['G_atm'] - co2_pictrl[m2]['G_atm'] #kg/yr"
   ]
  },
  {
   "cell_type": "markdown",
   "metadata": {},
   "source": [
    "## Match times and take mean"
   ]
  },
  {
   "cell_type": "code",
   "execution_count": 12,
   "metadata": {},
   "outputs": [],
   "source": [
    "#fix the times to all be the same, weight by month and take the mean for sinks and atmospheric co2\n",
    "\n",
    "for m in nbp.keys():    \n",
    "    times = emis_sinks[m].time.get_index('time')\n",
    "    weights = times.shift(-1, 'MS') - times.shift(1, 'MS')\n",
    "    weights = xr.DataArray(weights, [('time', emis_sinks[m]['time'].values)]).astype('float')\n",
    "    emis_sinks[m] =  (emis_sinks[m] * weights).groupby('time.year').sum('time')/weights.groupby('time.year').sum('time')\n",
    "    \n",
    "G_atm = {}\n",
    "for m in co2_dif.keys():    \n",
    "    times = co2_dif[m].time.get_index('time')\n",
    "    weights = times.shift(-1, 'MS') - times.shift(1, 'MS')\n",
    "    weights = xr.DataArray(weights, [('time', co2_dif[m]['time'].values)]).astype('float')\n",
    "    G_atm[m] =  (co2_dif[m] * weights).groupby('time.year').sum('time')/weights.groupby('time.year').sum('time')\n",
    "    \n",
    "    \n",
    "for m in emis_sinks.keys():\n",
    "    emis_sinks[m]['year'] = np.arange(0, len(emis_sinks[m]['year'])) # start from year 0 for all models\n",
    "    \n",
    "for m in G_atm.keys():\n",
    "    G_atm[m]['year'] = np.arange(0, len(G_atm[m]['year'])) # start from year 0 for all models"
   ]
  },
  {
   "cell_type": "markdown",
   "metadata": {},
   "source": [
    "# Sum the CO2 Mass and the Sinks to back out emissions of CO2"
   ]
  },
  {
   "cell_type": "code",
   "execution_count": 13,
   "metadata": {},
   "outputs": [],
   "source": [
    "# sum the two components-- some of the models don't have a co2mass, so we use the one from UKESM1_r1\n",
    "\n",
    "emis_co2 = {}\n",
    "for m in G_atm.keys():\n",
    "        emis_co2[m] = G_atm[m] + emis_sinks[m]\n",
    "\n",
    "for m in utils.diff_lists(emis_sinks.keys(), G_atm.keys()):\n",
    "        emis_co2[m] = G_atm['UKESM1_r1'] + emis_sinks[m] #use UKESM1_r1 co2 mass bc these runs don't have their own\n",
    "    "
   ]
  },
  {
   "cell_type": "code",
   "execution_count": 14,
   "metadata": {},
   "outputs": [],
   "source": [
    "# convert to GtC\n",
    "\n",
    "emis_co2_GtC = {}\n",
    "kg_to_Gt = 1e-12\n",
    "\n",
    "for m in emis_co2.keys():\n",
    "    emis_co2_GtC[m] = emis_co2[m]*kg_to_Gt\n",
    "    "
   ]
  },
  {
   "cell_type": "code",
   "execution_count": 15,
   "metadata": {
    "tags": []
   },
   "outputs": [],
   "source": [
    "#create one dataset with model as a coordinate\n",
    "\n",
    "emis_co2_GtC_ds = xr.concat([emis_co2_GtC[m] for m in emis_co2_GtC.keys()], pd.Index([m for m in emis_co2_GtC.keys()], name='model'), coords='minimal')"
   ]
  },
  {
   "cell_type": "markdown",
   "metadata": {},
   "source": [
    "# Save out CO2 emissions"
   ]
  },
  {
   "cell_type": "code",
   "execution_count": 16,
   "metadata": {},
   "outputs": [],
   "source": [
    "emis_co2_GtC_ds.to_netcdf('Outputs/1pct_emis_profile_full.nc4')\n"
   ]
  },
  {
   "cell_type": "markdown",
   "metadata": {},
   "source": [
    "# Plots to check if you want"
   ]
  },
  {
   "cell_type": "code",
   "execution_count": null,
   "metadata": {},
   "outputs": [],
   "source": [
    "for m in emis_sinks.keys():\n",
    "    fig, ax = plt.subplots()\n",
    "    plt.plot(emis_sinks[m])\n",
    "    plt.ylabel('total kg/yr lost to ocean and land')"
   ]
  },
  {
   "cell_type": "code",
   "execution_count": null,
   "metadata": {},
   "outputs": [],
   "source": [
    "fig, ax = plt.subplots()\n",
    "for m in G_atm.keys():\n",
    "    plt.plot(G_atm[m], label = m)\n",
    "    plt.ylabel('mass in atmosphere')\n",
    "    plt.legend()"
   ]
  },
  {
   "cell_type": "code",
   "execution_count": 17,
   "metadata": {},
   "outputs": [
    {
     "data": {
      "image/png": "[encoded data removed]",
      "text/plain": [
       "<Figure size 432x288 with 1 Axes>"
      ]
     },
     "metadata": {
      "needs_background": "light"
     },
     "output_type": "display_data"
    }
   ],
   "source": [
    "for m in emis_co2_GtC_ds.model.values:\n",
    "    plt.plot(emis_co2_GtC_ds.sel(model = m), label = m)\n",
    "    plt.legend()"
   ]
  },
  {
   "cell_type": "code",
   "execution_count": null,
   "metadata": {},
   "outputs": [],
   "source": []
  }
 ],
 "metadata": {
  "kernelspec": {
   "display_name": "Python (gchp)",
   "language": "python",
   "name": "gchp"
  },
  "language_info": {
   "codemirror_mode": {
    "name": "ipython",
    "version": 3
   },
   "file_extension": ".py",
   "mimetype": "text/x-python",
   "name": "python",
   "nbconvert_exporter": "python",
   "pygments_lexer": "ipython3",
   "version": "3.9.10"
  }
 },
 "nbformat": 4,
 "nbformat_minor": 4
}
