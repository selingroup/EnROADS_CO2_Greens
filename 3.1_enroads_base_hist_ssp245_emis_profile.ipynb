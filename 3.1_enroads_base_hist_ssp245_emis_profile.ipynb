{
 "cells": [
  {
   "cell_type": "code",
   "execution_count": 3,
   "metadata": {},
   "outputs": [
    {
     "data": {
      "text/plain": [
       "<dask.config.set at 0x7f0143337e20>"
      ]
     },
     "execution_count": 3,
     "metadata": {},
     "output_type": "execute_result"
    }
   ],
   "source": [
    "%matplotlib inline\n",
    "\n",
    "%matplotlib inline\n",
    "%load_ext autoreload\n",
    "%autoreload 2\n",
    "\n",
    "import xarray as xr\n",
    "import pandas as pd\n",
    "import matplotlib.pyplot as plt\n",
    "import numpy as np\n",
    "import cftime\n",
    "import dask\n",
    "import xarrayutils\n",
    "import cartopy.crs as ccrs\n",
    "from xmip.preprocessing import combined_preprocessing\n",
    "from xmip.preprocessing import replace_x_y_nominal_lat_lon\n",
    "from xmip.drift_removal import replace_time\n",
    "from xmip.postprocessing import concat_experiments\n",
    "import xmip.drift_removal as xm_dr\n",
    "import xmip as xm\n",
    "import xesmf as xe\n",
    "import datetime\n",
    "from dateutil.relativedelta import relativedelta\n",
    "import utils\n",
    "import scipy.signal as signal\n",
    "import cf_xarray as cfxr\n",
    "from datetime import timedelta\n",
    "\n",
    "\n",
    "dask.config.set(**{'array.slicing.split_large_chunks': True})\n"
   ]
  },
  {
   "cell_type": "markdown",
   "metadata": {},
   "source": [
    "# Parameters and Dictionaries"
   ]
  },
  {
   "cell_type": "code",
   "execution_count": 4,
   "metadata": {},
   "outputs": [],
   "source": [
    "model_run_hist_dict = {'CANESM5_r1p1':'CanESM5-1_historical_r1i1p1f1*'}\n",
    "model_run_control_dict = {'CANESM5_r1p1':'CanESM5-1_piControl_r1i1p1f1*'}\n",
    "model_run_ssp245_dict = {'CANESM5_r1p1':'CanESM5-1_ssp245_r1i1p1f1*'}\n"
   ]
  },
  {
   "cell_type": "code",
   "execution_count": 5,
   "metadata": {},
   "outputs": [],
   "source": [
    "fg_co2_hist = {}\n",
    "fg_co2_pictrl = {}\n",
    "fg_co2_ssp245pct = {}\n",
    "nbp_hist = {}\n",
    "nbp_pictrl = {}\n",
    "nbp_ssp245pct = {}\n",
    "co2_hist = {}\n",
    "co2_pictrl = {}\n",
    "co2_ssp245pct = {}\n",
    "areacello = {}\n",
    "areacella = {}"
   ]
  },
  {
   "cell_type": "markdown",
   "metadata": {},
   "source": [
    "# Import the Historical, SSP245 and Control Runs"
   ]
  },
  {
   "cell_type": "code",
   "execution_count": 6,
   "metadata": {},
   "outputs": [],
   "source": [
    "for m in model_run_hist_dict.keys():\n",
    "    fg_co2_hist[m] = xr.open_mfdataset(f'{utils.path_to_cmip6_data}hist_ssp245/fgco2_Omon_{model_run_hist_dict[m]}', use_cftime=True) #kgC/m2/s\n",
    "\n",
    "    nbp_hist[m] = xr.open_mfdataset(f'{utils.path_to_cmip6_data}hist_ssp245/nbp_Lmon_{model_run_hist_dict[m]}', use_cftime=True) #kgC/m2/s\n",
    "    co2_hist[m] = xr.open_mfdataset(f'{utils.path_to_cmip6_data}hist_ssp245/co2mass_Amon_{model_run_hist_dict[m]}', use_cftime=True) #kg\n",
    "    \n",
    "    "
   ]
  },
  {
   "cell_type": "code",
   "execution_count": 7,
   "metadata": {},
   "outputs": [],
   "source": [
    "for m in model_run_ssp245_dict.keys():\n",
    "    fg_co2_ssp245pct[m] = xr.open_mfdataset(f'{utils.path_to_cmip6_data}hist_ssp245/fgco2_Omon_{model_run_ssp245_dict[m]}', use_cftime=True) #kgC/m2/s\n",
    "\n",
    "    nbp_ssp245pct[m] = xr.open_mfdataset(f'{utils.path_to_cmip6_data}hist_ssp245/nbp_Lmon_{model_run_ssp245_dict[m]}', use_cftime=True) #kgC/m2/s\n",
    "    co2_ssp245pct[m] = xr.open_mfdataset(f'{utils.path_to_cmip6_data}hist_ssp245/co2mass_Amon_{model_run_ssp245_dict[m]}', use_cftime=True) #kg\n",
    "    \n",
    "    "
   ]
  },
  {
   "cell_type": "code",
   "execution_count": 8,
   "metadata": {
    "tags": []
   },
   "outputs": [],
   "source": [
    "for m in ['CANESM5_r1p1']:\n",
    "    fg_co2_pictrl[m] = xr.open_mfdataset(f'{utils.path_to_cmip6_data}hist_ssp245/fgco2_Omon_{model_run_control_dict[m]}', use_cftime=True, engine = 'netcdf4') #kg/m2/s \n",
    "    \n",
    "    nbp_pictrl[m] = xr.open_mfdataset(f'{utils.path_to_cmip6_data}hist_ssp245/nbp_Lmon_{model_run_control_dict[m]}',use_cftime=True, engine = 'netcdf4') #kgC/m2/s \n",
    "\n",
    "    co2_pictrl[m] = xr.open_mfdataset(f'{utils.path_to_cmip6_data}hist_ssp245/co2mass_Amon_{model_run_control_dict[m]}',use_cftime=True, engine = 'netcdf4') #kg\n",
    "    \n",
    "    areacello[m] = xr.open_mfdataset(f'{utils.path_to_cmip6_data}hist_ssp245/areacello_Ofx_{model_run_control_dict[m]}', use_cftime=True, engine = 'netcdf4')\n",
    "    areacella[m] = xr.open_mfdataset(f'{utils.path_to_cmip6_data}hist_ssp245/areacella_fx_{model_run_control_dict[m]}', use_cftime=True, engine = 'netcdf4')\n"
   ]
  },
  {
   "cell_type": "markdown",
   "metadata": {},
   "source": [
    "## Merge the Historical and SSP245"
   ]
  },
  {
   "cell_type": "code",
   "execution_count": 9,
   "metadata": {},
   "outputs": [],
   "source": [
    "for m in nbp_ssp245pct.keys():\n",
    "    nbp_hist[m] = xr.concat([nbp_hist[m].loc[dict(time = slice(nbp_hist[m]['time'].min(), nbp_ssp245pct[m]['time'].min()-timedelta(30)))] , \n",
    "                                    nbp_ssp245pct[m]],\n",
    "             dim = 'time')\n",
    "    fg_co2_hist[m] = xr.concat([fg_co2_hist[m].loc[dict(time = slice(fg_co2_hist[m]['time'].min(), fg_co2_ssp245pct[m]['time'].min()-timedelta(30)))] , \n",
    "                                    fg_co2_ssp245pct[m]],\n",
    "             dim = 'time')\n",
    "    co2_hist[m] = xr.concat([co2_hist[m].loc[dict(time = slice(co2_hist[m]['time'].min(), co2_ssp245pct[m]['time'].min()-timedelta(30)))] , \n",
    "                            co2_ssp245pct[m]],\n",
    "     dim = 'time')\n"
   ]
  },
  {
   "cell_type": "markdown",
   "metadata": {},
   "source": [
    "# Modify Data"
   ]
  },
  {
   "cell_type": "markdown",
   "metadata": {},
   "source": [
    "## Model Specific Fixes in Time"
   ]
  },
  {
   "cell_type": "code",
   "execution_count": 10,
   "metadata": {},
   "outputs": [],
   "source": [
    "## fix the times so that they line up according to the notes above\n",
    "m = 'CANESM5_r1p1'\n",
    "nbp_pictrl[m]['time'] = nbp_pictrl['CANESM5_r1p1']['time']- timedelta(365*4150)\n",
    "fg_co2_pictrl[m]['time'] = fg_co2_pictrl['CANESM5_r1p1']['time']- timedelta(365*4150)\n",
    "co2_pictrl[m]['time'] = co2_pictrl['CANESM5_r1p1']['time']- timedelta(365*4150)\n"
   ]
  },
  {
   "cell_type": "markdown",
   "metadata": {},
   "source": [
    "## Conversion to KgC as a flux"
   ]
  },
  {
   "cell_type": "code",
   "execution_count": 13,
   "metadata": {},
   "outputs": [
    {
     "name": "stdout",
     "output_type": "stream",
     "text": [
      "CANESM5_r1p1\n"
     ]
    }
   ],
   "source": [
    "kgCO2_to_kgC = 1/3.67\n",
    "#convert kg to kg/year\n",
    "for m in co2_hist.keys():\n",
    "    seconds_per_yr = 60*60*24*365\n",
    "    print(m)\n",
    "    co2_hist[m]['G_atm'] = co2_hist[m]['co2mass'].diff('time')/(co2_hist[m]['time'].diff('time').astype('float64')/(1e9*seconds_per_yr)) #convert from ns to year via 1e9ns/s x 60s/min x 60min/hr x 24hr/day x 365day/yr\n",
    "    co2_hist[m]['G_atm'] *= kgCO2_to_kgC\n",
    "    co2_hist[m]['G_atm'].attrs = {'units':'kgC'}\n",
    "    \n",
    "\n",
    "    seconds_per_yr = 60*60*24*365\n",
    "    co2_pictrl[m]['G_atm'] = co2_pictrl[m]['co2mass'].diff('time')/(co2_pictrl[m]['time'].diff('time').astype('float64')/(1e9*seconds_per_yr)) #convert from ns to year via 1e9ns/s x 60s/min x 60min/hr x 24hr/day x 365day/yr\n",
    "    co2_pictrl[m]['G_atm'] *= kgCO2_to_kgC\n",
    "    co2_pictrl[m]['G_atm'].attrs = {'units':'kgC'}"
   ]
  },
  {
   "cell_type": "markdown",
   "metadata": {},
   "source": [
    "# Difference between the Hist/SSP245 and Control"
   ]
  },
  {
   "cell_type": "markdown",
   "metadata": {},
   "source": [
    "## FGCO2 and NBP Difference"
   ]
  },
  {
   "cell_type": "code",
   "execution_count": 16,
   "metadata": {
    "tags": []
   },
   "outputs": [
    {
     "name": "stdout",
     "output_type": "stream",
     "text": [
      "CANESM5_r1p1 CANESM5_r1p1\n"
     ]
    }
   ],
   "source": [
    "fg_co2 = {}\n",
    "nbp = {}\n",
    "for m1 in model_run_ssp245_dict.keys():\n",
    "    m2 = m1\n",
    "    print(m1, m2)\n",
    "    fg_co2[m1] = fg_co2_hist[m1] - fg_co2_pictrl[m2]\n",
    "    nbp[m1] = nbp_hist[m1] - nbp_pictrl[m2]\n",
    "\n",
    "    fg_co2[m1]['fgco2'] = fg_co2[m1]['fgco2']*seconds_per_yr*areacello[m2]['areacello']\n",
    "    nbp[m1]['nbp'] = nbp[m1]['nbp']*seconds_per_yr*areacella[m2]['areacella']"
   ]
  },
  {
   "cell_type": "markdown",
   "metadata": {},
   "source": [
    "## Sum up all Sinks"
   ]
  },
  {
   "cell_type": "code",
   "execution_count": 17,
   "metadata": {},
   "outputs": [],
   "source": [
    "#total sinks\n",
    "emis_sinks = {}\n",
    "for m in nbp.keys():\n",
    "    emis_sinks[m] = nbp[m]['nbp'].sum(dim = ['lat','lon']) + fg_co2[m]['fgco2'].sum(dim = ['i','j'])\n",
    "    "
   ]
  },
  {
   "cell_type": "markdown",
   "metadata": {},
   "source": [
    "## CO2 Mass Difference"
   ]
  },
  {
   "cell_type": "code",
   "execution_count": 18,
   "metadata": {},
   "outputs": [
    {
     "name": "stdout",
     "output_type": "stream",
     "text": [
      "CANESM5_r1p1 CANESM5_r1p1\n"
     ]
    }
   ],
   "source": [
    "co2_dif = {}\n",
    "for m1 in co2_hist.keys():\n",
    "    m2 = m1\n",
    "    print(m1, m2)\n",
    "    co2_dif[m1] = co2_hist[m1]['G_atm'] - co2_pictrl[m2]['G_atm'] #kg/yr"
   ]
  },
  {
   "cell_type": "markdown",
   "metadata": {},
   "source": [
    "## Match Times and Take Mean"
   ]
  },
  {
   "cell_type": "code",
   "execution_count": 19,
   "metadata": {},
   "outputs": [],
   "source": [
    "#fix the times to all be the same, weight by month and take the mean\n",
    "\n",
    "for m in nbp.keys(): \n",
    "    times = emis_sinks[m].time.get_index('time')\n",
    "    weights = times.shift(-1, 'MS') - times.shift(1, 'MS')\n",
    "    weights = xr.DataArray(weights, [('time', emis_sinks[m]['time'].values)]).astype('float')\n",
    "    emis_sinks[m] =  (emis_sinks[m] * weights).groupby('time.year').sum('time')/weights.groupby('time.year').sum('time')\n"
   ]
  },
  {
   "cell_type": "code",
   "execution_count": 20,
   "metadata": {},
   "outputs": [],
   "source": [
    "G_atm = {}\n",
    "for m in co2_dif.keys():    \n",
    "    times = co2_dif[m].time.get_index('time')\n",
    "    weights = times.shift(-1, 'MS') - times.shift(1, 'MS')\n",
    "    weights = xr.DataArray(weights, [('time', co2_dif[m]['time'].values)]).astype('float')\n",
    "    G_atm[m] =  (co2_dif[m] * weights).groupby('time.year').sum('time')/weights.groupby('time.year').sum('time')"
   ]
  },
  {
   "cell_type": "code",
   "execution_count": 21,
   "metadata": {},
   "outputs": [],
   "source": [
    "for m in emis_sinks.keys():\n",
    "    emis_sinks[m]['year'] = np.arange(0, len(emis_sinks[m]['year']))"
   ]
  },
  {
   "cell_type": "code",
   "execution_count": 22,
   "metadata": {},
   "outputs": [],
   "source": [
    "for m in G_atm.keys():\n",
    "    G_atm[m]['year'] = np.arange(0, len(G_atm[m]['year']))"
   ]
  },
  {
   "cell_type": "markdown",
   "metadata": {},
   "source": [
    "# Sum the CO2 Mass and the Sinks to Back out the Emissions of CO2"
   ]
  },
  {
   "cell_type": "code",
   "execution_count": 23,
   "metadata": {},
   "outputs": [],
   "source": [
    "emis_co2 = {}\n",
    "for m in G_atm.keys():\n",
    "    emis_co2[m] = G_atm[m] + emis_sinks[m] #use UKESM1_r1 co2 mass bc these runs don't have their own"
   ]
  },
  {
   "cell_type": "code",
   "execution_count": 24,
   "metadata": {},
   "outputs": [],
   "source": [
    "emis_co2_GtC = {}\n",
    "kg_to_Gt = 1e-12\n",
    "\n",
    "for m in emis_co2.keys():\n",
    "    emis_co2_GtC[m] = emis_co2[m]*kg_to_Gt\n",
    "    "
   ]
  },
  {
   "cell_type": "code",
   "execution_count": 25,
   "metadata": {
    "tags": []
   },
   "outputs": [],
   "source": [
    "emis_co2_GtC_ds = xr.concat([emis_co2_GtC[m] for m in emis_co2_GtC.keys()], pd.Index([m for m in emis_co2_GtC.keys()], name='model'), coords='minimal')"
   ]
  },
  {
   "cell_type": "markdown",
   "metadata": {},
   "source": [
    "# Save out CO2 emissions"
   ]
  },
  {
   "cell_type": "code",
   "execution_count": 26,
   "metadata": {},
   "outputs": [],
   "source": [
    "emis_co2_GtC_ds.to_netcdf('Outputs/histssp245_emis_profile_full.nc4')\n"
   ]
  },
  {
   "cell_type": "markdown",
   "metadata": {},
   "source": [
    "## Plots"
   ]
  },
  {
   "cell_type": "code",
   "execution_count": 27,
   "metadata": {},
   "outputs": [
    {
     "data": {
      "image/png": "[encoded data removed]",
      "text/plain": [
       "<Figure size 432x288 with 1 Axes>"
      ]
     },
     "metadata": {
      "needs_background": "light"
     },
     "output_type": "display_data"
    }
   ],
   "source": [
    "for m in emis_co2_GtC_ds.model.values:\n",
    "    plt.plot(emis_co2_GtC_ds.sel(model = m), label = m)\n",
    "    plt.legend()\n",
    "    #plt.xlim(0,100)"
   ]
  },
  {
   "cell_type": "code",
   "execution_count": null,
   "metadata": {},
   "outputs": [],
   "source": []
  }
 ],
 "metadata": {
  "kernelspec": {
   "display_name": "Python (gchp)",
   "language": "python",
   "name": "gchp"
  },
  "language_info": {
   "codemirror_mode": {
    "name": "ipython",
    "version": 3
   },
   "file_extension": ".py",
   "mimetype": "text/x-python",
   "name": "python",
   "nbconvert_exporter": "python",
   "pygments_lexer": "ipython3",
   "version": "3.9.10"
  }
 },
 "nbformat": 4,
 "nbformat_minor": 4
}
